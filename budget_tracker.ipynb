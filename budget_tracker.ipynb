{
 "cells": [
  {
   "cell_type": "code",
   "execution_count": 3,
   "id": "c42e8f69-c15d-46f3-b170-e69338ab8807",
   "metadata": {},
   "outputs": [
    {
     "name": "stdin",
     "output_type": "stream",
     "text": [
      "Enter your monthly income:  80000\n",
      "Enter expenses category (or type 'done' to finish):  house rent\n",
      "Enter the amount for house rent:  25000\n",
      "Enter expenses category (or type 'done' to finish):  shopping\n",
      "Enter the amount for shopping:  10000\n",
      "Enter expenses category (or type 'done' to finish):  travel\n",
      "Enter the amount for travel:  3000\n",
      "Enter expenses category (or type 'done' to finish):  appliances\n",
      "Enter the amount for appliances:  5000\n",
      "Enter expenses category (or type 'done' to finish):  done\n"
     ]
    },
    {
     "name": "stdout",
     "output_type": "stream",
     "text": [
      "\n",
      "Total Expenses: Rs43000.00\n",
      "Monthly Savings: Rs37000.00\n",
      "Data saved to csv file.\n",
      "\n",
      "Do you want to view previous data? (yes/no)\n"
     ]
    },
    {
     "name": "stdin",
     "output_type": "stream",
     "text": [
      " yes\n"
     ]
    },
    {
     "name": "stdout",
     "output_type": "stream",
     "text": [
      "['Income', 'Expenses', 'Savings']\n",
      "['80000.0', '43000.0', '37000.0']\n",
      "Welcome to the Personal Budget Tracker!\n"
     ]
    }
   ],
   "source": [
    "import csv\n",
    "import os\n",
    "\n",
    "file_name = \"budget_data.csv\"\n",
    "def add_income():#to add income\n",
    "    income=float(input(\"Enter your monthly income: \"))\n",
    "    return income\n",
    "\n",
    "def add_expenses():#adding the expenses\n",
    "    expenses={}\n",
    "    while True:\n",
    "        category=input(\"Enter expenses category (or type 'done' to finish): \").lower() #here we are taking the category for which we spent the money\n",
    "        if category == 'done':\n",
    "            break\n",
    "        amount=float(input(f\"Enter the amount for {category}: \")) #and we are enteing the expense of that category\n",
    "        expenses[category]=amount\n",
    "    return expenses\n",
    "\n",
    "def calculate_total_expenses(expenses): #caluculating expense\n",
    "    return sum(expenses.values())\n",
    "\n",
    "def calculate_savings(income,total_expenses): #caluclating the savings\n",
    "    return income - total_expenses\n",
    "\n",
    "def save_to_csv(income,expenses,savings): #here we are saving all the information to csv\n",
    "    file_exists = os.path.isfile(file_name)\n",
    "    with open(file_name,mode='a',newline='') as file:\n",
    "        writer= csv.writer(file)\n",
    "        if not file_exists:\n",
    "            writer.writerow(['Income','Expenses','Savings'])\n",
    "        writer.writerow([income,expenses,savings])\n",
    "    print(\"Data saved to csv file.\")\n",
    "\n",
    "def load_from_csv():\n",
    "    if os.path.exists(file_name):\n",
    "        with open(file_name, mode='r') as file:\n",
    "            reader = csv.reader(file)\n",
    "            for row in reader:\n",
    "                print(row)\n",
    "    else:\n",
    "        print(\"No data file found.\")\n",
    "\n",
    "def main():\n",
    "    print(\"Welcome to the Personal Budget Tracker!\")\n",
    "\n",
    "income=add_income()\n",
    "expenses=add_expenses()\n",
    "total_expenses = calculate_total_expenses(expenses)\n",
    "savings=calculate_savings(income,total_expenses)\n",
    "        \n",
    "print(f\"\\nTotal Expenses: Rs{total_expenses:.2f}\")\n",
    "print(f\"Monthly Savings: Rs{savings:.2f}\")\n",
    "\n",
    "save_to_csv(income, total_expenses, savings)\n",
    "\n",
    "print(\"\\nDo you want to view previous data? (yes/no)\")\n",
    "if input().lower() == 'yes':\n",
    "    load_from_csv()\n",
    "    \n",
    "if __name__ == \"__main__\":\n",
    "    main()"
   ]
  },
  {
   "cell_type": "code",
   "execution_count": null,
   "id": "f28bbf83-7fb0-44a8-b861-9faffc237ebe",
   "metadata": {},
   "outputs": [],
   "source": []
  }
 ],
 "metadata": {
  "kernelspec": {
   "display_name": "Python 3 (ipykernel)",
   "language": "python",
   "name": "python3"
  },
  "language_info": {
   "codemirror_mode": {
    "name": "ipython",
    "version": 3
   },
   "file_extension": ".py",
   "mimetype": "text/x-python",
   "name": "python",
   "nbconvert_exporter": "python",
   "pygments_lexer": "ipython3",
   "version": "3.12.4"
  }
 },
 "nbformat": 4,
 "nbformat_minor": 5
}
