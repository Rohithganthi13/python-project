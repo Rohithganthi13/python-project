{
 "cells": [
  {
   "cell_type": "code",
   "execution_count": 1,
   "id": "b7ddb564-7422-4eed-9230-4668fa03f3c2",
   "metadata": {},
   "outputs": [
    {
     "name": "stdout",
     "output_type": "stream",
     "text": [
      "Note: you may need to restart the kernel to use updated packages.Collecting datetime\n",
      "  Downloading DateTime-5.5-py3-none-any.whl.metadata (33 kB)\n",
      "Requirement already satisfied: zope.interface in c:\\users\\hp\\anaconda3\\lib\\site-packages (from datetime) (5.4.0)\n",
      "Requirement already satisfied: pytz in c:\\users\\hp\\anaconda3\\lib\\site-packages (from datetime) (2024.1)\n",
      "Requirement already satisfied: setuptools in c:\\users\\hp\\anaconda3\\lib\\site-packages (from zope.interface->datetime) (69.5.1)\n",
      "Downloading DateTime-5.5-py3-none-any.whl (52 kB)\n",
      "   ---------------------------------------- 0.0/52.6 kB ? eta -:--:--\n",
      "   -------------------------------------- - 51.2/52.6 kB 1.3 MB/s eta 0:00:01\n",
      "   -------------------------------------- - 51.2/52.6 kB 1.3 MB/s eta 0:00:01\n",
      "   -------------------------------------- - 51.2/52.6 kB 1.3 MB/s eta 0:00:01\n",
      "   -------------------------------------- - 51.2/52.6 kB 1.3 MB/s eta 0:00:01\n",
      "   -------------------------------------- - 51.2/52.6 kB 1.3 MB/s eta 0:00:01\n",
      "   -------------------------------------- - 51.2/52.6 kB 1.3 MB/s eta 0:00:01\n",
      "   -------------------------------------- - 51.2/52.6 kB 1.3 MB/s eta 0:00:01\n",
      "   ---------------------------------------- 52.6/52.6 kB 135.5 kB/s eta 0:00:00\n",
      "Installing collected packages: datetime\n",
      "Successfully installed datetime-5.5\n",
      "\n"
     ]
    }
   ],
   "source": [
    "pip install datetime"
   ]
  },
  {
   "cell_type": "code",
   "execution_count": null,
   "id": "6c2b2aab-2861-4a13-9e3a-7f826cdbf1de",
   "metadata": {},
   "outputs": [
    {
     "name": "stdout",
     "output_type": "stream",
     "text": [
      "\n",
      "--- Personal Journal App ---\n",
      "1. Write a new entry\n",
      "2. Retrieve an entry by date\n",
      "3. Exit\n"
     ]
    },
    {
     "name": "stdin",
     "output_type": "stream",
     "text": [
      "Select an option:  1\n",
      "Write your journal entry:  goals\n"
     ]
    },
    {
     "name": "stdout",
     "output_type": "stream",
     "text": [
      "Entry saved for 2024-10-08.\n",
      "\n",
      "--- Personal Journal App ---\n",
      "1. Write a new entry\n",
      "2. Retrieve an entry by date\n",
      "3. Exit\n"
     ]
    },
    {
     "name": "stdin",
     "output_type": "stream",
     "text": [
      "Select an option:  1\n",
      "Write your journal entry:  achievement\n"
     ]
    },
    {
     "name": "stdout",
     "output_type": "stream",
     "text": [
      "Entry saved for 2024-10-08.\n",
      "\n",
      "--- Personal Journal App ---\n",
      "1. Write a new entry\n",
      "2. Retrieve an entry by date\n",
      "3. Exit\n"
     ]
    },
    {
     "name": "stdin",
     "output_type": "stream",
     "text": [
      "Select an option:  future plans\n"
     ]
    },
    {
     "name": "stdout",
     "output_type": "stream",
     "text": [
      "Invalid choice. Please try again.\n",
      "\n",
      "--- Personal Journal App ---\n",
      "1. Write a new entry\n",
      "2. Retrieve an entry by date\n",
      "3. Exit\n"
     ]
    },
    {
     "name": "stdin",
     "output_type": "stream",
     "text": [
      "Select an option:  2\n",
      "Enter the date (YYYY-MM-DD):  2024-10-08\n"
     ]
    },
    {
     "name": "stdout",
     "output_type": "stream",
     "text": [
      "\n",
      "--- Journal Entry for 2024-10-08 ---\n",
      "goals\n",
      "achievement\n",
      "\n",
      "\n",
      "--- Personal Journal App ---\n",
      "1. Write a new entry\n",
      "2. Retrieve an entry by date\n",
      "3. Exit\n"
     ]
    }
   ],
   "source": [
    "import os\n",
    "from datetime import datetime\n",
    "\n",
    "# Directory to save journal entries\n",
    "JOURNAL_DIR = \"journal_entries\"\n",
    "\n",
    "# Ensure the journal directory exists\n",
    "os.makedirs(JOURNAL_DIR, exist_ok=True)\n",
    "\n",
    "# Function to save a journal entry\n",
    "def save_entry(date, entry):\n",
    "    # Create a file name based on the date\n",
    "    file_name = os.path.join(JOURNAL_DIR, f\"{date}.txt\")\n",
    "    with open(file_name, mode='a', encoding='utf-8') as file:\n",
    "        file.write(entry + \"\\n\")\n",
    "    print(f\"Entry saved for {date}.\")\n",
    "\n",
    "# Function to retrieve a journal entry by date\n",
    "def retrieve_entry(date):\n",
    "    file_name = os.path.join(JOURNAL_DIR, f\"{date}.txt\")\n",
    "    if os.path.exists(file_name):\n",
    "        with open(file_name, mode='r', encoding='utf-8') as file:\n",
    "            content = file.read()\n",
    "            print(f\"\\n--- Journal Entry for {date} ---\\n{content}\")\n",
    "    else:\n",
    "        print(f\"No entries found for {date}.\")\n",
    "\n",
    "# Main function to run the journal app\n",
    "def main():\n",
    "    while True:\n",
    "        print(\"\\n--- Personal Journal App ---\")\n",
    "        print(\"1. Write a new entry\")\n",
    "        print(\"2. Retrieve an entry by date\")\n",
    "        print(\"3. Exit\")\n",
    "        \n",
    "        choice = input(\"Select an option: \")\n",
    "        \n",
    "        if choice == \"1\":\n",
    "            date = datetime.now().strftime(\"%Y-%m-%d\")  # Get today's date\n",
    "            entry = input(\"Write your journal entry: \")\n",
    "            save_entry(date, entry)\n",
    "        elif choice == \"2\":\n",
    "            date = input(\"Enter the date (YYYY-MM-DD): \")\n",
    "            retrieve_entry(date)\n",
    "        elif choice == \"3\":\n",
    "            print(\"Exiting the journal app. Goodbye!\")\n",
    "            break\n",
    "        else:\n",
    "            print(\"Invalid choice. Please try again.\")\n",
    "\n",
    "if __name__ == \"__main__\":\n",
    "    main()\n"
   ]
  },
  {
   "cell_type": "code",
   "execution_count": null,
   "id": "a717e9da-fb99-439c-b81e-1d4bed4a4cbb",
   "metadata": {},
   "outputs": [],
   "source": []
  }
 ],
 "metadata": {
  "kernelspec": {
   "display_name": "Python 3 (ipykernel)",
   "language": "python",
   "name": "python3"
  },
  "language_info": {
   "codemirror_mode": {
    "name": "ipython",
    "version": 3
   },
   "file_extension": ".py",
   "mimetype": "text/x-python",
   "name": "python",
   "nbconvert_exporter": "python",
   "pygments_lexer": "ipython3",
   "version": "3.12.4"
  }
 },
 "nbformat": 4,
 "nbformat_minor": 5
}
