{
 "cells": [
  {
   "cell_type": "code",
   "execution_count": 11,
   "id": "01fe1969-81e3-4d45-8758-8843e162e23b",
   "metadata": {},
   "outputs": [
    {
     "name": "stdin",
     "output_type": "stream",
     "text": [
      "Enter feedback file name (e.g., feedback.csv):  feed.csv\n"
     ]
    },
    {
     "name": "stdout",
     "output_type": "stream",
     "text": [
      "Error: feed.csv not found.\n"
     ]
    }
   ],
   "source": [
    "import csv\n",
    "\n",
    "positive_words = [\"good\", \"great\", \"excellent\", \"amazing\", \"love\", \"fantastic\", \"happy\", \"wonderful\"]\n",
    "negative_words = [\"bad\", \"terrible\", \"poor\", \"hate\", \"horrible\", \"disappointing\", \"sad\", \"awful\"]\n",
    "\n",
    "def read_feedback(file_name):\n",
    "    try:\n",
    "        with open(file_name, mode='r', encoding='utf-8') as file:\n",
    "            return [row[1] for row in csv.reader(file)]  # Assuming feedback is in column 2 (index 1)\n",
    "    except FileNotFoundError:\n",
    "        print(f\"Error: {file_name} not found.\")\n",
    "        return []\n",
    "\n",
    "def categorize_sentiment(feedback):\n",
    "    scores = {'positive': 0, 'neutral': 0, 'negative': 0}\n",
    "    analysis = []\n",
    "    \n",
    "    for comment in feedback:\n",
    "        sentiment = classify_sentiment(comment.lower())  # Convert to lowercase for comparison\n",
    "        scores[sentiment] += 1\n",
    "        analysis.append((comment, sentiment))\n",
    "    \n",
    "    return scores, analysis\n",
    "\n",
    "def classify_sentiment(comment):\n",
    "    # Check if the comment contains any positive or negative words\n",
    "    if any(word in comment for word in positive_words):\n",
    "        return 'positive'\n",
    "    elif any(word in comment for word in negative_words):\n",
    "        return 'negative'\n",
    "    else:\n",
    "        return 'neutral'\n",
    "\n",
    "def generate_report(scores, analysis):\n",
    "    print(f\"Positive: {scores['positive']}, Neutral: {scores['neutral']}, Negative: {scores['negative']}\")\n",
    "    if input(\"Save detailed report to CSV? (yes/no): \").lower() == 'yes':\n",
    "        with open('feedback_summary.csv', mode='w', newline='', encoding='utf-8') as file:\n",
    "            writer = csv.writer(file)\n",
    "            writer.writerow(['Feedback', 'Sentiment'])\n",
    "            writer.writerows(analysis)\n",
    "        print(\"Report saved as 'feedback_summary.csv'.\")\n",
    "\n",
    "def main():\n",
    "    feedback = read_feedback(input(\"Enter feedback file name (e.g., feedback.csv): \"))\n",
    "    if feedback:\n",
    "        scores, analysis = categorize_sentiment(feedback)\n",
    "        generate_report(scores, analysis)\n",
    "\n",
    "if __name__ == \"__main__\":\n",
    "    main()\n"
   ]
  },
  {
   "cell_type": "code",
   "execution_count": 3,
   "id": "fa3aa684-b964-4dcb-bbff-a221f8288151",
   "metadata": {},
   "outputs": [
    {
     "name": "stdout",
     "output_type": "stream",
     "text": [
      "Note: you may need to restart the kernel to use updated packages.Collecting textblob\n",
      "  Downloading textblob-0.18.0.post0-py3-none-any.whl.metadata (4.5 kB)\n",
      "Requirement already satisfied: nltk>=3.8 in c:\\users\\hp\\anaconda3\\lib\\site-packages (from textblob) (3.8.1)\n",
      "Requirement already satisfied: click in c:\\users\\hp\\anaconda3\\lib\\site-packages (from nltk>=3.8->textblob) (8.1.7)\n",
      "Requirement already satisfied: joblib in c:\\users\\hp\\anaconda3\\lib\\site-packages (from nltk>=3.8->textblob) (1.4.2)\n",
      "Requirement already satisfied: regex>=2021.8.3 in c:\\users\\hp\\anaconda3\\lib\\site-packages (from nltk>=3.8->textblob) (2023.10.3)\n",
      "Requirement already satisfied: tqdm in c:\\users\\hp\\anaconda3\\lib\\site-packages (from nltk>=3.8->textblob) (4.66.4)\n",
      "Requirement already satisfied: colorama in c:\\users\\hp\\anaconda3\\lib\\site-packages (from click->nltk>=3.8->textblob) (0.4.6)\n",
      "Downloading textblob-0.18.0.post0-py3-none-any.whl (626 kB)\n",
      "   ---------------------------------------- 0.0/626.3 kB ? eta -:--:--\n",
      "   -- ------------------------------------- 41.0/626.3 kB 2.0 MB/s eta 0:00:01\n",
      "   ---------------------------------------  624.6/626.3 kB 7.9 MB/s eta 0:00:01\n",
      "   ---------------------------------------  624.6/626.3 kB 7.9 MB/s eta 0:00:01\n",
      "   ---------------------------------------  624.6/626.3 kB 7.9 MB/s eta 0:00:01\n",
      "   ---------------------------------------- 626.3/626.3 kB 3.0 MB/s eta 0:00:00\n",
      "Installing collected packages: textblob\n",
      "Successfully installed textblob-0.18.0.post0\n",
      "\n"
     ]
    }
   ],
   "source": [
    "pip install textblob"
   ]
  },
  {
   "cell_type": "code",
   "execution_count": null,
   "id": "0418fd9a-7188-4fe2-a013-ad2221b57a18",
   "metadata": {},
   "outputs": [],
   "source": []
  }
 ],
 "metadata": {
  "kernelspec": {
   "display_name": "Python 3 (ipykernel)",
   "language": "python",
   "name": "python3"
  },
  "language_info": {
   "codemirror_mode": {
    "name": "ipython",
    "version": 3
   },
   "file_extension": ".py",
   "mimetype": "text/x-python",
   "name": "python",
   "nbconvert_exporter": "python",
   "pygments_lexer": "ipython3",
   "version": "3.12.4"
  }
 },
 "nbformat": 4,
 "nbformat_minor": 5
}
