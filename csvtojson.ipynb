{
 "cells": [
  {
   "cell_type": "code",
   "execution_count": 1,
   "id": "1eea29d6-2f10-47b9-bce4-0786d5f429b0",
   "metadata": {},
   "outputs": [
    {
     "name": "stdin",
     "output_type": "stream",
     "text": [
      "Enter the CSV file name (e.g., sales_data.csv):  friends.csv\n",
      "Enter the output JSON file name (e.g., sales_data.json):  friendsss.json\n"
     ]
    },
    {
     "name": "stdout",
     "output_type": "stream",
     "text": [
      "CSV data successfully converted to friendsss.json\n"
     ]
    }
   ],
   "source": [
    "import csv\n",
    "import json\n",
    "# Function to convert CSV to JSON\n",
    "def csv_to_json(csv_file, json_file):\n",
    "    data = []\n",
    "    \n",
    "    with open(csv_file, mode='r', encoding='utf-8') as file:\n",
    "        csv_reader = csv.DictReader(file)  # Use DictReader to map the CSV data to a dictionary\n",
    "        for row in csv_reader:\n",
    "            data.append(row)  \n",
    "\n",
    "    with open(json_file, mode='w', encoding='utf-8') as file:\n",
    "        json.dump(data, file, indent=4)  \n",
    "    print(f\"CSV data successfully converted to {json_file}\")\n",
    "\n",
    "def main():\n",
    "    csv_file = input(\"Enter the CSV file name (e.g., sales_data.csv): \")\n",
    "    json_file = input(\"Enter the output JSON file name (e.g., sales_data.json): \")\n",
    "    csv_to_json(csv_file, json_file)\n",
    "\n",
    "if __name__ == \"__main__\":\n",
    "    main()\n"
   ]
  },
  {
   "cell_type": "code",
   "execution_count": null,
   "id": "1c5ce835-be4e-46dc-b201-6ed230256d2f",
   "metadata": {},
   "outputs": [],
   "source": []
  }
 ],
 "metadata": {
  "kernelspec": {
   "display_name": "Python 3 (ipykernel)",
   "language": "python",
   "name": "python3"
  },
  "language_info": {
   "codemirror_mode": {
    "name": "ipython",
    "version": 3
   },
   "file_extension": ".py",
   "mimetype": "text/x-python",
   "name": "python",
   "nbconvert_exporter": "python",
   "pygments_lexer": "ipython3",
   "version": "3.12.4"
  }
 },
 "nbformat": 4,
 "nbformat_minor": 5
}
